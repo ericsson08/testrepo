{
 "cells": [
  {
   "cell_type": "markdown",
   "metadata": {},
   "source": [
    "# Práctica"
   ]
  },
  {
   "cell_type": "code",
   "execution_count": 15,
   "metadata": {},
   "outputs": [
    {
     "name": "stdout",
     "output_type": "stream",
     "text": [
      "2002, 2009, 2016, 2023, 2037, 2044, 2051, 2058, 2072, 2079, 2086, 2093, 2107, 2114, 2121, 2128, 2142, 2149, 2156, 2163, 2177, 2184, 2191, 2198, 2212, 2219, 2226, 2233, 2247, 2254, 2261, 2268, 2282, 2289, 2296, 2303, 2317, 2324, 2331, 2338, 2352, 2359, 2366, 2373, 2387, 2394, 2401, 2408, 2422, 2429, 2436, 2443, 2457, 2464, 2471, 2478, 2492, 2499, 2506, 2513, 2527, 2534, 2541, 2548, 2562, 2569, 2576, 2583, 2597, 2604, 2611, 2618, 2632, 2639, 2646, 2653, 2667, 2674, 2681, 2688, 2702, 2709, 2716, 2723, 2737, 2744, 2751, 2758, 2772, 2779, 2786, 2793, 2807, 2814, 2821, 2828, 2842, 2849, 2856, 2863, 2877, 2884, 2891, 2898, 2912, 2919, 2926, 2933, 2947, 2954, 2961, 2968, 2982, 2989, 2996, 3003, 3017, 3024, 3031, 3038, 3052, 3059, 3066, 3073, 3087, 3094, 3101, 3108, 3122, 3129, 3136, 3143, 3157, 3164, 3171, 3178, 3192, 3199\n"
     ]
    }
   ],
   "source": [
    "#EJERCICIO 1\n",
    "\n",
    "lst = []\n",
    "#texto = \"\"\n",
    "for n in range(2000,3201):\n",
    "    if n % 7 == 0 and n % 5 != 0:\n",
    "        lst.append(str(n)) #convertirlo en texrto si o si\n",
    "        #texto += str(n)+', '\n",
    "        \n",
    "print(\", \".join(lst))\n",
    "#print(texto[:-2])\n"
   ]
  },
  {
   "cell_type": "code",
   "execution_count": 23,
   "metadata": {},
   "outputs": [
    {
     "name": "stdout",
     "output_type": "stream",
     "text": [
      "{1: 1, 2: 4, 3: 9, 4: 16, 5: 25, 6: 36, 7: 49, 8: 64}\n"
     ]
    }
   ],
   "source": [
    "#EJERCICIO 2: With a given integral number n, write a program to generate a dictionary that contains (i, i*i)\n",
    "# such that is an integral number between 1 and n (both included). and then the program should print the dictionary.\n",
    "\n",
    "n = 8\n",
    "dict = {}\n",
    "for i in range (1, n+1):#empieza en 1 remarcar bien eso\n",
    "    dict[i]=i*i #PIENSA GILIPOLLAS\n",
    "\n",
    "print(dict)\n",
    "\n"
   ]
  },
  {
   "cell_type": "code",
   "execution_count": 24,
   "metadata": {},
   "outputs": [],
   "source": [
    "#EJERCICIO 3: Write a program which accepts a sequence of comma-separated numbers from console and\n",
    "#generate a list and a tuple which contains every number. 34,67,55,33,12,98"
   ]
  },
  {
   "cell_type": "code",
   "execution_count": 35,
   "metadata": {},
   "outputs": [
    {
     "name": "stdout",
     "output_type": "stream",
     "text": [
      "['34', '67', '55', '33', '12', '98']\n",
      "('34', '67', '55', '33', '12', '98')\n"
     ]
    }
   ],
   "source": [
    "n = \"34,67,55,33,12,98\"\n",
    "s = n.split(\",\") #Separa por comas para así tener una lista que diferencie por comas\n",
    "t = tuple(s)\n",
    "\n",
    "print(s)\n",
    "print(t)"
   ]
  },
  {
   "cell_type": "code",
   "execution_count": 36,
   "metadata": {},
   "outputs": [],
   "source": [
    "#EJERCICIO 4:  Write a program that calculates and prints the value according to the given formula:\n",
    "#Q = Square root of [(2 * C * D)/H]\n",
    "#Following are the fixed values of C and H:\n",
    "#C is 50. H is 30.\n",
    "#D is the variable whose values should be input to your program in a comma-separatedsequence.\n",
    "#Example\n",
    "#Let us assume the following comma separated input sequence is given to the program:100,150,180"
   ]
  },
  {
   "cell_type": "code",
   "execution_count": 54,
   "metadata": {},
   "outputs": [
    {
     "ename": "TypeError",
     "evalue": "'str' object is not callable",
     "output_type": "error",
     "traceback": [
      "\u001b[0;31m---------------------------------------------------------------------------\u001b[0m",
      "\u001b[0;31mTypeError\u001b[0m                                 Traceback (most recent call last)",
      "\u001b[0;32m<ipython-input-54-dcca024a5d3d>\u001b[0m in \u001b[0;36m<module>\u001b[0;34m\u001b[0m\n\u001b[1;32m      8\u001b[0m \u001b[0;32mfor\u001b[0m \u001b[0mvalue\u001b[0m \u001b[0;32min\u001b[0m \u001b[0mlst\u001b[0m\u001b[0;34m:\u001b[0m\u001b[0;34m\u001b[0m\u001b[0;34m\u001b[0m\u001b[0m\n\u001b[1;32m      9\u001b[0m     \u001b[0mq\u001b[0m \u001b[0;34m=\u001b[0m \u001b[0mround\u001b[0m\u001b[0;34m(\u001b[0m\u001b[0;34m(\u001b[0m\u001b[0;34m(\u001b[0m\u001b[0;36m2\u001b[0m\u001b[0;34m*\u001b[0m\u001b[0mc\u001b[0m\u001b[0;34m*\u001b[0m\u001b[0mint\u001b[0m\u001b[0;34m(\u001b[0m\u001b[0mvalue\u001b[0m\u001b[0;34m)\u001b[0m\u001b[0;34m)\u001b[0m\u001b[0;34m/\u001b[0m\u001b[0mh\u001b[0m\u001b[0;34m)\u001b[0m\u001b[0;34m**\u001b[0m\u001b[0;36m0.5\u001b[0m\u001b[0;34m)\u001b[0m\u001b[0;34m\u001b[0m\u001b[0;34m\u001b[0m\u001b[0m\n\u001b[0;32m---> 10\u001b[0;31m     \u001b[0mres\u001b[0m\u001b[0;34m.\u001b[0m\u001b[0mappend\u001b[0m\u001b[0;34m(\u001b[0m\u001b[0mstr\u001b[0m\u001b[0;34m(\u001b[0m\u001b[0mq\u001b[0m\u001b[0;34m)\u001b[0m\u001b[0;34m)\u001b[0m\u001b[0;34m\u001b[0m\u001b[0;34m\u001b[0m\u001b[0m\n\u001b[0m\u001b[1;32m     11\u001b[0m \u001b[0mprint\u001b[0m\u001b[0;34m(\u001b[0m\u001b[0;34m\",\"\u001b[0m\u001b[0;34m.\u001b[0m\u001b[0mjoin\u001b[0m\u001b[0;34m(\u001b[0m\u001b[0mres\u001b[0m\u001b[0;34m)\u001b[0m\u001b[0;34m)\u001b[0m\u001b[0;34m\u001b[0m\u001b[0;34m\u001b[0m\u001b[0m\n\u001b[1;32m     12\u001b[0m \u001b[0mprint\u001b[0m\u001b[0;34m(\u001b[0m\u001b[0;34m)\u001b[0m\u001b[0;34m\u001b[0m\u001b[0;34m\u001b[0m\u001b[0m\n",
      "\u001b[0;31mTypeError\u001b[0m: 'str' object is not callable"
     ]
    }
   ],
   "source": [
    "c=50\n",
    "h=30\n",
    "n=\"100,150,180\"\n",
    "\n",
    "res = []\n",
    "lst = n.split(\",\")\n",
    "\n",
    "for value in lst:\n",
    "    q = round(((2*c*int(value))/h)**0.5)\n",
    "    res.append(str(q))\n",
    "print(\",\".join(res))\n",
    "print()\n"
   ]
  },
  {
   "cell_type": "code",
   "execution_count": 63,
   "metadata": {},
   "outputs": [
    {
     "name": "stdout",
     "output_type": "stream",
     "text": [
      "[[0, 0, 0, 0, 0], [0, 1, 2, 3, 4], [0, 2, 4, 6, 8]]\n"
     ]
    }
   ],
   "source": [
    "#EJERCICIO 5: \n",
    "\n",
    "\n",
    "#x = int(input(\"dame un numero: \"))\n",
    "#y = int(input(\"dame otro: \"))\n",
    "x,y = 3,5\n",
    "\n",
    "lst = []\n",
    "\n",
    "for i in range(x):\n",
    "    lst.append([])\n",
    "    #lst[i] = []\n",
    "    for j in range(y):\n",
    "        # new = list()\n",
    "        lst[i].append(i*j)\n",
    "        #lst[i][j] = i*j\n",
    "print(lst)"
   ]
  },
  {
   "cell_type": "code",
   "execution_count": 16,
   "metadata": {},
   "outputs": [
    {
     "name": "stdout",
     "output_type": "stream",
     "text": [
      "['bag', 'hello', 'without', 'world']\n"
     ]
    }
   ],
   "source": [
    "#EJERCICIO 6: \n",
    "n = \"without,hello,bag,world\"\n",
    "\n",
    "z = n.split(',') #separa por comas-> lo convierte en una list\n",
    "z.sort() #ordena\n",
    "print(','.join(z)) #para concatenar->lo convierte en un comama separated values\n",
    "\n",
    "\n",
    " "
   ]
  },
  {
   "cell_type": "code",
   "execution_count": 27,
   "metadata": {},
   "outputs": [
    {
     "name": "stdout",
     "output_type": "stream",
     "text": [
      "again,and,hello,makes,perfect,practice,world\n"
     ]
    }
   ],
   "source": [
    "#EJERCICIO 7: \n",
    "\n",
    "texto = \"hello world and practice makes perfect and hello world again\"\n",
    "arr = texto.split(\" \") #convertimos a lista\n",
    "arr = list(set(arr)) #convertimos a set pero despues a lista poara poder hacer el método sort.\n",
    "arr.sort()\n",
    "\n",
    "print(\",\".join(arr)) #concatenamos"
   ]
  },
  {
   "cell_type": "code",
   "execution_count": 41,
   "metadata": {},
   "outputs": [
    {
     "name": "stdout",
     "output_type": "stream",
     "text": [
      "['0100', '1010']\n",
      "0100,1010\n",
      "['0100', '0011', '1010', '1001']\n"
     ]
    }
   ],
   "source": [
    "#EJERCICIO 8: to check if this numbers are divisible by 5\n",
    "\n",
    "digits = \"0100,0011,1010,1001\"\n",
    "lst = digits.split(\",\")\n",
    "lst1 = []\n",
    "\n",
    "for x in lst:\n",
    "    if int(x) % 5 == 0:\n",
    "        lst1.append(str(x))\n",
    "        \n",
    "print(lst1)\n",
    "print(\",\".join(lst1))\n",
    "print(lst)\n"
   ]
  },
  {
   "cell_type": "code",
   "execution_count": 42,
   "metadata": {},
   "outputs": [
    {
     "name": "stdout",
     "output_type": "stream",
     "text": [
      "1010\n",
      "1010\n"
     ]
    }
   ],
   "source": [
    "#pregunta 8: SOLUCIÓN\n",
    "items = []\n",
    "itemsB = []\n",
    "#num = input().split(\",\")\n",
    "num = \"0100,0011,1010,1001\".split(\",\")\n",
    "#num = [x for x in input().split(',')]\n",
    "for p in num:\n",
    "    x = int(p, 2)\n",
    "    #if not x%5:\n",
    "    if x%5==0:\n",
    "        items.append(p)\n",
    "        itemsB.append(bin(x)[2:])\n",
    "\n",
    "print(','.join(items))\n",
    "print(','.join(itemsB))"
   ]
  },
  {
   "cell_type": "code",
   "execution_count": 52,
   "metadata": {},
   "outputs": [
    {
     "name": "stdout",
     "output_type": "stream",
     "text": [
      "2000,2002,2004,2006,2008,2020,2022,2024,2026,2028,2040,2042,2044,2046,2048,2060,2062,2064,2066,2068,2080,2082,2084,2086,2088,2200,2202,2204,2206,2208,2220,2222,2224,2226,2228,2240,2242,2244,2246,2248,2260,2262,2264,2266,2268,2280,2282,2284,2286,2288,2400,2402,2404,2406,2408,2420,2422,2424,2426,2428,2440,2442,2444,2446,2448,2460,2462,2464,2466,2468,2480,2482,2484,2486,2488,2600,2602,2604,2606,2608,2620,2622,2624,2626,2628,2640,2642,2644,2646,2648,2660,2662,2664,2666,2668,2680,2682,2684,2686,2688,2800,2802,2804,2806,2808,2820,2822,2824,2826,2828,2840,2842,2844,2846,2848,2860,2862,2864,2866,2868,2880,2882,2884,2886,2888\n"
     ]
    }
   ],
   "source": [
    "#EJERCICIO 9: Write a program, which will find all such numbers between 1000 and 3000 (both included) such that each digit of the number is an even number.\n",
    "#The numbers obtained should be printed in a comma-separated sequence on a single line\n",
    "\n",
    "even = []\n",
    "\n",
    "for i in range(1000,3001):\n",
    "    s = str(i)\n",
    "    if (int(s[0])%2 == 0) and (int(s[1])%2 == 0) and (int(s[2])%2 == 0) and (int(s[3])%2 == 0):\n",
    "    \n",
    "        even.append(s)\n",
    "    \n",
    "print(\",\".join(even))\n",
    "\n"
   ]
  },
  {
   "cell_type": "code",
   "execution_count": 53,
   "metadata": {},
   "outputs": [
    {
     "name": "stdout",
     "output_type": "stream",
     "text": [
      "LETTERS:  10 DIGITS:  3\n"
     ]
    }
   ],
   "source": [
    "#EJERCICIO 10: \n",
    "\n",
    "# pregunta 10\n",
    "\n",
    "texto = \"hello world! 123\"\n",
    "#countL= 0\n",
    "#countN = 0\n",
    "#countL, countN= 0, 0\n",
    "countL = countN = 0\n",
    "\n",
    "for letter in texto:\n",
    "    if letter.isalpha():\n",
    "    #if i in ('abcdefghijklmnopqrstuvwxyz'):\n",
    "        countL+= 1\n",
    "    #elif i in ('1234567890'):\n",
    "    elif letter.isdigit():\n",
    "        countN += 1\n",
    "\n",
    "print('LETTERS: ',countL,'DIGITS: ',countN)\n"
   ]
  },
  {
   "cell_type": "code",
   "execution_count": 54,
   "metadata": {},
   "outputs": [
    {
     "name": "stdout",
     "output_type": "stream",
     "text": [
      "Upper:  1\n",
      "Lower:  9\n"
     ]
    }
   ],
   "source": [
    "#EJERCICIO 11\n",
    "\n",
    "#pregunta 12:\n",
    "entrada = \"Hello world! 123\"\n",
    "upperc = 0\n",
    "lowerc=0\n",
    "for letter in entrada:\n",
    "    if letter.isupper():\n",
    "        upperc+=1\n",
    "    elif letter.islower():\n",
    "        lowerc+=1\n",
    "\n",
    "print(\"Upper: \", upperc)\n",
    "print(\"Lower: \", lowerc)\n"
   ]
  },
  {
   "cell_type": "code",
   "execution_count": 57,
   "metadata": {},
   "outputs": [
    {
     "name": "stdout",
     "output_type": "stream",
     "text": [
      "11106\n"
     ]
    }
   ],
   "source": [
    "#EJERCICIO 13\n",
    "\n",
    "n = \"9\"\n",
    "\n",
    "n1 = n*1\n",
    "n2 = n*2\n",
    "n3 = n*3\n",
    "n4 = n*4\n",
    "\n",
    "o = int(n1)+int(n2)+int(n3)+int(n4)\n",
    "print(o)\n"
   ]
  },
  {
   "cell_type": "code",
   "execution_count": 67,
   "metadata": {},
   "outputs": [
    {
     "name": "stdout",
     "output_type": "stream",
     "text": [
      "(1, 5)\n",
      "(1, 5)\n",
      "(1, 5)\n",
      "(1, 5)\n",
      "(1, 5)\n"
     ]
    }
   ],
   "source": [
    "#EJERCICIO 14\n",
    "\n",
    "s = \"1,2,3,4,5,6,7,8,9\"\n",
    "lst = []\n",
    "for num in s.split(\",\"):\n",
    "        if int(num) % 2 != 0:\n",
    "                lst.append(num**2)\n",
    "\n",
    "print(','.join(lst))"
   ]
  },
  {
   "cell_type": "code",
   "execution_count": 68,
   "metadata": {},
   "outputs": [
    {
     "name": "stdout",
     "output_type": "stream",
     "text": [
      "introduce importe con D o W (fin para finalizar: D 100\n",
      "su saldo es:  100\n",
      "introduce importe con D o W (fin para finalizar: W 200\n",
      "su saldo es:  -100\n",
      "introduce importe con D o W (fin para finalizar: 200 W\n",
      "Opción no válida\n",
      "su saldo es:  -100\n",
      "introduce importe con D o W (fin para finalizar: W 200\n",
      "su saldo es:  -300\n",
      "introduce importe con D o W (fin para finalizar: fin\n",
      "su saldo es:  -300\n"
     ]
    }
   ],
   "source": [
    "#EJERCICIO 15\n",
    "\n",
    "saldo=0\n",
    "while True:\n",
    "    oper=input(\"introduce importe con D o W (fin para finalizar: \").split(\" \")\n",
    "    if oper[0]==\"D\":\n",
    "        saldo+= int(oper[1])\n",
    "    elif oper[0]==\"W\":\n",
    "        saldo-= int(oper[1])\n",
    "    elif oper[0]==\"fin\":\n",
    "        break\n",
    "    else:\n",
    "        print(\"Opción no válida\")\n",
    "    print(\"su saldo es: \",saldo)\n",
    "print(\"su saldo es: \",saldo)\n"
   ]
  },
  {
   "cell_type": "code",
   "execution_count": 73,
   "metadata": {},
   "outputs": [
    {
     "name": "stdout",
     "output_type": "stream",
     "text": [
      "\n"
     ]
    }
   ],
   "source": [
    "#EJERCICIO 16: \n",
    "#1. At least 1 letter between [a-z]\n",
    "#2. At least 1 number between [0-9]\n",
    "#3 . At least 1 letter between [A-Z]\n",
    "#4. At least 1 character from [$#@]\n",
    "#5. Minimum length of transaction password: 6\n",
    "#6. Maximum length of transaction password: 12\n",
    "\n",
    "passwords = \"ABd1234@1,a F1#,2w3E*,2We3345\".split(\",\")\n",
    "\n",
    "passwordsOK = []\n",
    "\n",
    "for password in passwords:\n",
    "    if len(password)>6 and len(password)<12:\n",
    "        continue\n",
    "    elif password.isupper() or password.islower() or password.isdigit():\n",
    "        continue\n",
    "        \n",
    " ###### Esta es la versión sin expresiones regulares\n",
    "    # donde tenemos que ser capces de confirmar que se cumplen las 4 condiones\n",
    "    # tener al menos una mayuscula, un minuscula, un numero y un especial \n",
    "tenemosMayus = False\n",
    "tenemosMinus = False\n",
    "tenemosEspecial = False\n",
    "tenemosNum = False\n",
    "for letter in password:\n",
    "    if letter.isupper():\n",
    "        tenemosMayus = True\n",
    "    elif letter.islower():\n",
    "        tenemosMinus=True\n",
    "    elif letter.isdigit():\n",
    "        tenemosNum=True\n",
    "    elif letter in specialChars:\n",
    "        tenemosEspecial = True\n",
    "        \n",
    "    if tenemosMayus and tenemosMinus and tenemosNum and tenemosEspecial:\n",
    "        passwordsOK.append(password)\n",
    "        break\n",
    "\n",
    "print( \",\".join(passwordsOK) )\n",
    "\n"
   ]
  },
  {
   "cell_type": "code",
   "execution_count": null,
   "metadata": {},
   "outputs": [],
   "source": []
  }
 ],
 "metadata": {
  "kernelspec": {
   "display_name": "Python 3",
   "language": "python",
   "name": "python3"
  },
  "language_info": {
   "codemirror_mode": {
    "name": "ipython",
    "version": 3
   },
   "file_extension": ".py",
   "mimetype": "text/x-python",
   "name": "python",
   "nbconvert_exporter": "python",
   "pygments_lexer": "ipython3",
   "version": "3.8.3"
  }
 },
 "nbformat": 4,
 "nbformat_minor": 4
}
