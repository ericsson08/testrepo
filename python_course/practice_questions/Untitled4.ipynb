{
 "cells": [
  {
   "cell_type": "code",
   "execution_count": 1,
   "id": "2fcce3f3",
   "metadata": {},
   "outputs": [
    {
     "data": {
      "text/plain": [
       "-1"
      ]
     },
     "execution_count": 1,
     "metadata": {},
     "output_type": "execute_result"
    }
   ],
   "source": [
    "'search'.find('S')"
   ]
  },
  {
   "cell_type": "code",
   "execution_count": 5,
   "id": "0c6caf83",
   "metadata": {},
   "outputs": [
    {
     "data": {
      "text/plain": [
       "'ata'"
      ]
     },
     "execution_count": 5,
     "metadata": {},
     "output_type": "execute_result"
    }
   ],
   "source": [
    "string = \"patata\"\n",
    "\n",
    "string [1:-2]"
   ]
  },
  {
   "cell_type": "code",
   "execution_count": 6,
   "id": "d2a2b259",
   "metadata": {},
   "outputs": [
    {
     "data": {
      "text/plain": [
       "-1"
      ]
     },
     "execution_count": 6,
     "metadata": {},
     "output_type": "execute_result"
    }
   ],
   "source": [
    " 1+-2"
   ]
  },
  {
   "cell_type": "code",
   "execution_count": 8,
   "id": "4b2e1a85",
   "metadata": {},
   "outputs": [
    {
     "name": "stdout",
     "output_type": "stream",
     "text": [
      "ant\"bat\"camel\n"
     ]
    }
   ],
   "source": [
    "a = 'ant'\n",
    "\n",
    "b = \"bat\"\n",
    "\n",
    "c = 'camel'\n",
    "\n",
    "print(a,b,c,sep='\"')"
   ]
  },
  {
   "cell_type": "code",
   "execution_count": 9,
   "id": "0a7b61ce",
   "metadata": {},
   "outputs": [],
   "source": [
    "class X:pass\n"
   ]
  },
  {
   "cell_type": "code",
   "execution_count": 13,
   "id": "fd2f9cf3",
   "metadata": {},
   "outputs": [],
   "source": [
    "class X: { }"
   ]
  },
  {
   "cell_type": "code",
   "execution_count": 12,
   "id": "de96dfc0",
   "metadata": {},
   "outputs": [
    {
     "ename": "SyntaxError",
     "evalue": "unexpected EOF while parsing (552268601.py, line 1)",
     "output_type": "error",
     "traceback": [
      "\u001b[0;36m  File \u001b[0;32m\"/var/folders/sg/xmdfyxq166zcdhbn0g4bbfs00000gn/T/ipykernel_33313/552268601.py\"\u001b[0;36m, line \u001b[0;32m1\u001b[0m\n\u001b[0;31m    class X:\u001b[0m\n\u001b[0m            ^\u001b[0m\n\u001b[0;31mSyntaxError\u001b[0m\u001b[0;31m:\u001b[0m unexpected EOF while parsing\n"
     ]
    }
   ],
   "source": []
  },
  {
   "cell_type": "code",
   "execution_count": 20,
   "id": "56516642",
   "metadata": {},
   "outputs": [],
   "source": [
    "def idler():\n",
    "    exit\n",
    "idler()"
   ]
  },
  {
   "cell_type": "code",
   "execution_count": 21,
   "id": "1992d2a9",
   "metadata": {},
   "outputs": [
    {
     "ename": "TypeError",
     "evalue": "'<' not supported between instances of 'complex' and 'int'",
     "output_type": "error",
     "traceback": [
      "\u001b[0;31m---------------------------------------------------------------------------\u001b[0m",
      "\u001b[0;31mTypeError\u001b[0m                                 Traceback (most recent call last)",
      "\u001b[0;32m/var/folders/sg/xmdfyxq166zcdhbn0g4bbfs00000gn/T/ipykernel_33313/4102777883.py\u001b[0m in \u001b[0;36m<module>\u001b[0;34m\u001b[0m\n\u001b[1;32m      1\u001b[0m \u001b[0my\u001b[0m \u001b[0;34m=\u001b[0m \u001b[0;34m[\u001b[0m\u001b[0;36m4\u001b[0m\u001b[0;34m,\u001b[0m \u001b[0;36m5\u001b[0m\u001b[0;34m,\u001b[0m\u001b[0;36m1j\u001b[0m\u001b[0;34m]\u001b[0m\u001b[0;34m\u001b[0m\u001b[0;34m\u001b[0m\u001b[0m\n\u001b[1;32m      2\u001b[0m \u001b[0;34m\u001b[0m\u001b[0m\n\u001b[0;32m----> 3\u001b[0;31m \u001b[0my\u001b[0m\u001b[0;34m.\u001b[0m\u001b[0msort\u001b[0m\u001b[0;34m(\u001b[0m\u001b[0;34m)\u001b[0m\u001b[0;34m\u001b[0m\u001b[0;34m\u001b[0m\u001b[0m\n\u001b[0m",
      "\u001b[0;31mTypeError\u001b[0m: '<' not supported between instances of 'complex' and 'int'"
     ]
    }
   ],
   "source": [
    "y = [4, 5,1j]\n",
    "\n",
    "y.sort()"
   ]
  },
  {
   "cell_type": "code",
   "execution_count": null,
   "id": "d7ba8ea7",
   "metadata": {},
   "outputs": [],
   "source": []
  }
 ],
 "metadata": {
  "kernelspec": {
   "display_name": "Python 3 (ipykernel)",
   "language": "python",
   "name": "python3"
  },
  "language_info": {
   "codemirror_mode": {
    "name": "ipython",
    "version": 3
   },
   "file_extension": ".py",
   "mimetype": "text/x-python",
   "name": "python",
   "nbconvert_exporter": "python",
   "pygments_lexer": "ipython3",
   "version": "3.8.11"
  }
 },
 "nbformat": 4,
 "nbformat_minor": 5
}
