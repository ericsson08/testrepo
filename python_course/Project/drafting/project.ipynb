{
 "cells": [
  {
   "cell_type": "code",
   "execution_count": 1,
   "metadata": {},
   "outputs": [],
   "source": [
    "import time\n",
    "import pandas as pd\n",
    "import numpy as np"
   ]
  },
  {
   "cell_type": "code",
   "execution_count": 10,
   "metadata": {},
   "outputs": [
    {
     "data": {
      "text/plain": [
       "'/Users/ericsson08/github/testrepo/python_course/Project'"
      ]
     },
     "execution_count": 10,
     "metadata": {},
     "output_type": "execute_result"
    }
   ],
   "source": [
    "%pwd"
   ]
  },
  {
   "cell_type": "code",
   "execution_count": 2,
   "metadata": {},
   "outputs": [],
   "source": [
    "CITY_DATA = { 'chicago': 'chicago.csv',\n",
    "              'new york city': 'new_york_city.csv',\n",
    "              'washington': 'washington.csv' }"
   ]
  },
  {
   "cell_type": "code",
   "execution_count": 6,
   "metadata": {},
   "outputs": [],
   "source": [
    "def validate_entry(value,valid_values,type_validation):\n",
    "    \n",
    "    while value not in valid_values:\n",
    "        if value == '':\n",
    "            value = input('Write a {}: '.format(type_validation))\n",
    "        else:\n",
    "            value = input('Write a {}: '.format(type_validation))\n",
    "        value = value.lower()\n",
    "        \n",
    "    return value\n",
    "\n",
    "\n",
    "def get_filters():\n",
    "    \"\"\"\n",
    "    Asks user to specify a city, month, and day to analyze.\n",
    "\n",
    "    Returns:\n",
    "        (str) city - name of the city to analyze\n",
    "        (str) month - name of the month to filter by, or \"all\" to apply no month filter\n",
    "        (str) day - name of the day of week to filter by, or \"all\" to apply no day filter\n",
    "    \"\"\"\n",
    "    print('Hello! Let\\'s explore some US bikeshare data!')\n",
    "    \n",
    "    city = ''\n",
    "    \n",
    "    month = ''\n",
    "    \n",
    "    day = ''\n",
    "    \n",
    "    valid_cities = ['chicago', 'new york city', 'washington']\n",
    "    \n",
    "    valid_months = ['january', 'february', 'march', 'april', 'may', 'june', 'all']\n",
    "    \n",
    "    valid_days = ['monday','tuesday','wednesday','thursday','friday','saturday','sunday','all']\n",
    "    \n",
    "    month = validate_entry(month,valid_months,'month')\n",
    "    \n",
    "    day = validate_entry(day,valid_days,'day')\n",
    "    \n",
    "    city = validate_entry(city,valid_cities,'city')\n",
    "    \n",
    "    \n",
    "    # TO DO: get user input for city (chicago, new york city, washington). HINT: Use a while loop to handle invalid inputs\n",
    "\n",
    "    \n",
    "    #while city not in valid_cities: # 1a opcion .lower() lo usamos aquí solamente para poder comparar\n",
    "     #   if city == '':\n",
    "        #    city = input('Write a city: ') #si pongo : fuera del '' dara error // 2na opcion .lower() aquí modifica el valor que ha escrito\n",
    "      #  else:\n",
    "      #      city = input('Write a valid city, PLEASE: ')\n",
    "      #  city = city.lower()    #3era opcion: asignamos que la variable city sea minuscula y solo usamos lower() 1 vez (por fuera del if)\n",
    "\n",
    "    # TO DO: get user input for month (all, january, february, ... , june)\n",
    "\n",
    "    # TO DO: get user input for day of week (all, monday, tuesday, ... sunday)\n",
    "    \n",
    "        \n",
    "\n",
    "\n",
    "    print('-'*40)\n",
    "    return city,month,day\n"
   ]
  },
  {
   "cell_type": "code",
   "execution_count": 7,
   "metadata": {},
   "outputs": [
    {
     "name": "stdout",
     "output_type": "stream",
     "text": [
      "Hello! Let's explore some US bikeshare data!\n",
      "Write a month: january\n",
      "Write a day: monday\n",
      "Write a city: chicago\n",
      "----------------------------------------\n"
     ]
    },
    {
     "data": {
      "text/plain": [
       "('chicago', 'january', 'monday')"
      ]
     },
     "execution_count": 7,
     "metadata": {},
     "output_type": "execute_result"
    }
   ],
   "source": [
    "get_filters()"
   ]
  },
  {
   "cell_type": "code",
   "execution_count": 8,
   "metadata": {},
   "outputs": [],
   "source": [
    "def load_data(city, month, day):\n",
    "    \"\"\"\n",
    "    Loads data for the specified city and filters by month and day if applicable.\n",
    "\n",
    "    Args:\n",
    "        (str) city - name of the city to analyze\n",
    "        (str) month - name of the month to filter by, or \"all\" to apply no month filter\n",
    "        (str) day - name of the day of week to filter by, or \"all\" to apply no day filter\n",
    "    Returns:\n",
    "        df - Pandas DataFrame containing city data filtered by month and day\n",
    "        \n",
    "        \n",
    "    \"\"\"\n",
    "    df = pd.read_csv(CITY_DATA)\n",
    "    \n",
    "    city = \n",
    "    \n",
    "    return df"
   ]
  },
  {
   "cell_type": "code",
   "execution_count": 9,
   "metadata": {},
   "outputs": [
    {
     "ename": "NameError",
     "evalue": "name 'city' is not defined",
     "output_type": "error",
     "traceback": [
      "\u001b[0;31m---------------------------------------------------------------------------\u001b[0m",
      "\u001b[0;31mNameError\u001b[0m                                 Traceback (most recent call last)",
      "\u001b[0;32m<ipython-input-9-f499cb35562c>\u001b[0m in \u001b[0;36m<module>\u001b[0;34m\u001b[0m\n\u001b[0;32m----> 1\u001b[0;31m \u001b[0mload_data\u001b[0m\u001b[0;34m(\u001b[0m\u001b[0mcity\u001b[0m\u001b[0;34m,\u001b[0m\u001b[0mmonth\u001b[0m\u001b[0;34m,\u001b[0m\u001b[0mday\u001b[0m\u001b[0;34m)\u001b[0m\u001b[0;34m\u001b[0m\u001b[0;34m\u001b[0m\u001b[0m\n\u001b[0m",
      "\u001b[0;31mNameError\u001b[0m: name 'city' is not defined"
     ]
    }
   ],
   "source": [
    "load_data(city,month,day)"
   ]
  },
  {
   "cell_type": "code",
   "execution_count": null,
   "metadata": {},
   "outputs": [],
   "source": []
  }
 ],
 "metadata": {
  "kernelspec": {
   "display_name": "Python 3",
   "language": "python",
   "name": "python3"
  },
  "language_info": {
   "codemirror_mode": {
    "name": "ipython",
    "version": 3
   },
   "file_extension": ".py",
   "mimetype": "text/x-python",
   "name": "python",
   "nbconvert_exporter": "python",
   "pygments_lexer": "ipython3",
   "version": "3.8.3"
  }
 },
 "nbformat": 4,
 "nbformat_minor": 4
}
